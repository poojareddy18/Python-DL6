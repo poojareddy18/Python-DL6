{
 "cells": [
  {
   "cell_type": "code",
   "execution_count": 93,
   "metadata": {
    "colab": {
     "base_uri": "https://localhost:8080/",
     "height": 225
    },
    "colab_type": "code",
    "id": "Y4AVoq4-tyNI",
    "outputId": "e33c28dd-3cf0-401a-b70d-3063c7e68fa8"
   },
   "outputs": [
    {
     "name": "stdout",
     "output_type": "stream",
     "text": [
      "Train on 60000 samples, validate on 10000 samples\n",
      "Epoch 1/5\n",
      "60000/60000 [==============================] - 3s 43us/step - loss: 0.5251 - accuracy: 0.4501 - val_loss: 0.4515 - val_accuracy: 0.4839\n",
      "Epoch 2/5\n",
      "60000/60000 [==============================] - 2s 41us/step - loss: 0.4211 - accuracy: 0.4890 - val_loss: 0.4049 - val_accuracy: 0.4879\n",
      "Epoch 3/5\n",
      "60000/60000 [==============================] - 2s 41us/step - loss: 0.3943 - accuracy: 0.4922 - val_loss: 0.3866 - val_accuracy: 0.4918\n",
      "Epoch 4/5\n",
      "60000/60000 [==============================] - 2s 41us/step - loss: 0.3767 - accuracy: 0.4952 - val_loss: 0.3706 - val_accuracy: 0.4937\n",
      "Epoch 5/5\n",
      "60000/60000 [==============================] - 2s 41us/step - loss: 0.3624 - accuracy: 0.4974 - val_loss: 0.3583 - val_accuracy: 0.4966\n"
     ]
    },
    {
     "data": {
      "text/plain": [
       "<keras.callbacks.callbacks.History at 0x7f738459cd68>"
      ]
     },
     "execution_count": 93,
     "metadata": {
      "tags": []
     },
     "output_type": "execute_result"
    }
   ],
   "source": [
    "from keras.layers import Input, Dense\n",
    "from keras.models import Model\n",
    "\n",
    "# this is the size of our encoded representations\n",
    "encoding_dim = 32  # 32 floats -> compression of factor 24.5, assuming the input is 784 floats\n",
    "\n",
    "# this is our input placeholder\n",
    "input_img = Input(shape=(784,))\n",
    "# \"encoded\" is the encoded representation of the input\n",
    "encoded = Dense(encoding_dim, activation='relu')(input_img)\n",
    "# \"decoded\" is the lossy reconstruction of the input\n",
    "decoded = Dense(784, activation='sigmoid')(encoded)\n",
    "# this model maps an input to its reconstruction\n",
    "autoencoder = Model(input_img, decoded)\n",
    "# this model maps an input to its encoded representation\n",
    "autoencoder.compile(optimizer='adadelta', loss='binary_crossentropy',metrics=['accuracy'])\n",
    "from keras.datasets import mnist, fashion_mnist\n",
    "import numpy as np\n",
    "(x_train, y_train), (x_test, y_test) = fashion_mnist.load_data()\n",
    "x_train = x_train.astype('float32') / 255.\n",
    "x_test = x_test.astype('float32') / 255.\n",
    "x_train = x_train.reshape((len(x_train), np.prod(x_train.shape[1:])))\n",
    "x_test = x_test.reshape((len(x_test), np.prod(x_test.shape[1:])))\n",
    "\n",
    "autoencoder.fit(x_train, x_train,\n",
    "                epochs=5,\n",
    "                batch_size=256,\n",
    "                shuffle=True,\n",
    "                validation_data=(x_test, x_test))"
   ]
  },
  {
   "cell_type": "markdown",
   "metadata": {
    "colab_type": "text",
    "id": "JF0dstj8u4Jb"
   },
   "source": [
    "1. Add one more hidden layer to autoencoder"
   ]
  },
  {
   "cell_type": "code",
   "execution_count": 94,
   "metadata": {
    "colab": {
     "base_uri": "https://localhost:8080/",
     "height": 225
    },
    "colab_type": "code",
    "id": "daP5zCcZu8qx",
    "outputId": "1e0a0e84-3098-4a4c-c891-65acb9da85f8"
   },
   "outputs": [
    {
     "name": "stdout",
     "output_type": "stream",
     "text": [
      "Train on 60000 samples, validate on 10000 samples\n",
      "Epoch 1/5\n",
      "60000/60000 [==============================] - 7s 109us/step - loss: 0.5022 - val_loss: 0.4130\n",
      "Epoch 2/5\n",
      "60000/60000 [==============================] - 6s 107us/step - loss: 0.3922 - val_loss: 0.3795\n",
      "Epoch 3/5\n",
      "60000/60000 [==============================] - 7s 110us/step - loss: 0.3647 - val_loss: 0.3542\n",
      "Epoch 4/5\n",
      "60000/60000 [==============================] - 6s 108us/step - loss: 0.3444 - val_loss: 0.3401\n",
      "Epoch 5/5\n",
      "60000/60000 [==============================] - 6s 106us/step - loss: 0.3337 - val_loss: 0.3338\n"
     ]
    },
    {
     "data": {
      "text/plain": [
       "<keras.callbacks.callbacks.History at 0x7f7384674630>"
      ]
     },
     "execution_count": 94,
     "metadata": {
      "tags": []
     },
     "output_type": "execute_result"
    }
   ],
   "source": [
    "# this is the size of our encoded representations\n",
    "encoding_dim = 32  # 32 floats -> compression of factor 24.5, assuming the input is 784 floats\n",
    "\n",
    "# this is our input placeholder\n",
    "input_img = Input(shape=(784,))\n",
    "# \"encoded\" is the encoded representation of the input\n",
    "encoded = Dense(encoding_dim, activation='relu')(input_img)\n",
    "# adding a hidden layer\n",
    "HiddenLayer=Dense(512,activation='relu')(encoded)\n",
    "# \"decoded\" is the lossy reconstruction of the input\n",
    "decoded = Dense(784, activation='sigmoid')(HiddenLayer)\n",
    "# this model maps an input to its reconstruction\n",
    "autoencoder1 = Model(input_img, decoded)\n",
    "# this model maps an input to its encoded representation\n",
    "autoencoder1.compile(optimizer='adadelta', loss='binary_crossentropy',)\n",
    "from keras.datasets import mnist, fashion_mnist\n",
    "import numpy as np\n",
    "(x_train, y_train), (x_test, y_test) = fashion_mnist.load_data()\n",
    "x_train = x_train.astype('float32') / 255.\n",
    "x_test = x_test.astype('float32') / 255.\n",
    "x_train = x_train.reshape((len(x_train), np.prod(x_train.shape[1:])))\n",
    "x_test = x_test.reshape((len(x_test), np.prod(x_test.shape[1:])))\n",
    "\n",
    "autoencoder1.fit(x_train, x_train,\n",
    "                epochs=5,\n",
    "                batch_size=256,\n",
    "                shuffle=True,\n",
    "                validation_data=(x_test, x_test))"
   ]
  },
  {
   "cell_type": "markdown",
   "metadata": {
    "colab_type": "text",
    "id": "WKH1paVHxq_D"
   },
   "source": [
    "2. Do the prediction on the test data and then visualize one of the reconstructed version of that test data. Compare the same test data before reconstruction using Matplotlib\n"
   ]
  },
  {
   "cell_type": "code",
   "execution_count": 95,
   "metadata": {
    "colab": {
     "base_uri": "https://localhost:8080/",
     "height": 265
    },
    "colab_type": "code",
    "id": "LO_QsGUzyMan",
    "outputId": "79844f89-59ca-43f1-aed9-4c1cdf1bf368"
   },
   "outputs": [
    {
     "data": {
      "image/png": "[encoded data removed]",
      "text/plain": [
       "<Figure size 432x288 with 1 Axes>"
      ]
     },
     "metadata": {
      "needs_background": "light",
      "tags": []
     },
     "output_type": "display_data"
    }
   ],
   "source": [
    "# prediction\n",
    "prediction = autoencoder1.predict(x_test[[6],:])\n",
    "\n",
    "from matplotlib import pyplot as plt\n",
    "# Input Image\n",
    "plt.imshow(x_test[6].reshape(28,28))\n",
    "plt.show()"
   ]
  },
  {
   "cell_type": "code",
   "execution_count": 96,
   "metadata": {
    "colab": {
     "base_uri": "https://localhost:8080/",
     "height": 265
    },
    "colab_type": "code",
    "id": "CznmOWKKy1m8",
    "outputId": "2ed1d242-f0c5-4c62-867d-3f7d701f7be6"
   },
   "outputs": [
    {
     "data": {
      "image/png": "[encoded data removed]",
      "text/plain": [
       "<Figure size 432x288 with 1 Axes>"
      ]
     },
     "metadata": {
      "needs_background": "light",
      "tags": []
     },
     "output_type": "display_data"
    }
   ],
   "source": [
    "# Reconstructed Image\n",
    "plt.imshow(prediction[0].reshape(28,28))\n",
    "plt.show()"
   ]
  },
  {
   "cell_type": "markdown",
   "metadata": {
    "colab_type": "text",
    "id": "_uMVASBTzIjL"
   },
   "source": [
    "3. Repeat the question 2 on the denoisening autoencoder"
   ]
  },
  {
   "cell_type": "code",
   "execution_count": 97,
   "metadata": {
    "colab": {
     "base_uri": "https://localhost:8080/",
     "height": 381
    },
    "colab_type": "code",
    "id": "Xlfof6gXzV2f",
    "outputId": "93d3bbb7-efac-4c56-fe9c-205bde4125f2"
   },
   "outputs": [
    {
     "name": "stdout",
     "output_type": "stream",
     "text": [
      "Train on 60000 samples, validate on 10000 samples\n",
      "Epoch 1/10\n",
      "60000/60000 [==============================] - 3s 46us/step - loss: 0.3616 - accuracy: 0.4975 - val_loss: 0.3470 - val_accuracy: 1.2755e-07\n",
      "Epoch 2/10\n",
      "60000/60000 [==============================] - 3s 45us/step - loss: 0.3532 - accuracy: 0.4990 - val_loss: 0.3384 - val_accuracy: 1.2755e-07\n",
      "Epoch 3/10\n",
      "60000/60000 [==============================] - 3s 45us/step - loss: 0.3463 - accuracy: 0.5003 - val_loss: 0.3313 - val_accuracy: 1.2755e-07\n",
      "Epoch 4/10\n",
      "60000/60000 [==============================] - 3s 45us/step - loss: 0.3408 - accuracy: 0.5012 - val_loss: 0.3254 - val_accuracy: 1.2755e-07\n",
      "Epoch 5/10\n",
      "60000/60000 [==============================] - 3s 46us/step - loss: 0.3363 - accuracy: 0.5019 - val_loss: 0.3205 - val_accuracy: 1.2755e-07\n",
      "Epoch 6/10\n",
      "60000/60000 [==============================] - 3s 46us/step - loss: 0.3324 - accuracy: 0.5025 - val_loss: 0.3163 - val_accuracy: 1.2755e-07\n",
      "Epoch 7/10\n",
      "60000/60000 [==============================] - 3s 44us/step - loss: 0.3292 - accuracy: 0.5030 - val_loss: 0.3126 - val_accuracy: 1.2755e-07\n",
      "Epoch 8/10\n",
      "60000/60000 [==============================] - 3s 44us/step - loss: 0.3265 - accuracy: 0.5034 - val_loss: 0.3095 - val_accuracy: 1.2755e-07\n",
      "Epoch 9/10\n",
      "60000/60000 [==============================] - 3s 44us/step - loss: 0.3243 - accuracy: 0.5037 - val_loss: 0.3069 - val_accuracy: 1.2755e-07\n",
      "Epoch 10/10\n",
      "60000/60000 [==============================] - 3s 45us/step - loss: 0.3225 - accuracy: 0.5040 - val_loss: 0.3047 - val_accuracy: 1.2755e-07\n"
     ]
    }
   ],
   "source": [
    "#introducing noise\n",
    "noise_factor = 0.5\n",
    "x_train_noisy = x_train + noise_factor * np.random.normal(loc=0.0, scale=1.0, size=x_train.shape)\n",
    "x_test_noisy = x_test + noise_factor * np.random.normal(loc=0.0, scale=1.0, size=x_test.shape)\n",
    "\n",
    "history = autoencoder.fit(x_train_noisy, x_train,\n",
    "                epochs=10,\n",
    "                batch_size=256,\n",
    "                shuffle=True,\n",
    "                validation_data=(x_test_noisy, x_test_noisy))\n"
   ]
  },
  {
   "cell_type": "code",
   "execution_count": 98,
   "metadata": {
    "colab": {
     "base_uri": "https://localhost:8080/",
     "height": 265
    },
    "colab_type": "code",
    "id": "W0ufKSvO2h3B",
    "outputId": "0983607e-e989-46df-e319-c8a277faa7fb"
   },
   "outputs": [
    {
     "data": {
      "image/png": "[encoded data removed]",
      "text/plain": [
       "<Figure size 432x288 with 1 Axes>"
      ]
     },
     "metadata": {
      "needs_background": "light",
      "tags": []
     },
     "output_type": "display_data"
    }
   ],
   "source": [
    "# prediction\n",
    "prediction1 = autoencoder.predict(x_test_noisy[[15],:])\n",
    "\n",
    "# Input Image\n",
    "plt.imshow(x_test[15].reshape(28,28))\n",
    "plt.show()"
   ]
  },
  {
   "cell_type": "code",
   "execution_count": 99,
   "metadata": {
    "colab": {
     "base_uri": "https://localhost:8080/",
     "height": 265
    },
    "colab_type": "code",
    "id": "7y0T7X5B_3ne",
    "outputId": "c8f8e673-0bfc-4ef1-bca9-72bd6e653a4e"
   },
   "outputs": [
    {
     "data": {
      "image/png": "[encoded data removed]",
      "text/plain": [
       "<Figure size 432x288 with 1 Axes>"
      ]
     },
     "metadata": {
      "needs_background": "light",
      "tags": []
     },
     "output_type": "display_data"
    }
   ],
   "source": [
    "# After applying noise to data\n",
    "plt.imshow(x_test_noisy[15].reshape(28,28))\n",
    "plt.show()\n"
   ]
  },
  {
   "cell_type": "code",
   "execution_count": 100,
   "metadata": {
    "colab": {
     "base_uri": "https://localhost:8080/",
     "height": 265
    },
    "colab_type": "code",
    "id": "gB6xWHLq3oxH",
    "outputId": "64992d1a-1722-41f5-dd45-38a55b66bc41"
   },
   "outputs": [
    {
     "data": {
      "image/png": "[encoded data removed]",
      "text/plain": [
       "<Figure size 432x288 with 1 Axes>"
      ]
     },
     "metadata": {
      "needs_background": "light",
      "tags": []
     },
     "output_type": "display_data"
    }
   ],
   "source": [
    "# Reconstructed Image\n",
    "plt.imshow(prediction1[0].reshape(28,28))\n",
    "plt.show()"
   ]
  },
  {
   "cell_type": "markdown",
   "metadata": {
    "colab_type": "text",
    "id": "E36ajew1_YRI"
   },
   "source": [
    "4. plot loss and accuracy using the history object\n"
   ]
  },
  {
   "cell_type": "code",
   "execution_count": 101,
   "metadata": {
    "colab": {
     "base_uri": "https://localhost:8080/",
     "height": 295
    },
    "colab_type": "code",
    "id": "XCvy28v1_b2-",
    "outputId": "61f5c694-a4ea-4b60-f898-5d513cee9520"
   },
   "outputs": [
    {
     "data": {
      "image/png": "[encoded data removed]",
      "text/plain": [
       "<Figure size 432x288 with 1 Axes>"
      ]
     },
     "metadata": {
      "needs_background": "light",
      "tags": []
     },
     "output_type": "display_data"
    }
   ],
   "source": [
    "import matplotlib.pyplot as plt\n",
    "plt.plot(history.history['accuracy'])\n",
    "plt.plot(history.history['loss'])\n",
    "plt.title('model accuracy vs loss')\n",
    "plt.xlabel('epoch')\n",
    "plt.legend(['accuray','loss'], loc='upper left')\n",
    "plt.show()"
   ]
  },
  {
   "cell_type": "markdown",
   "metadata": {
    "colab_type": "text",
    "id": "pqzwKXI6DAIA"
   },
   "source": [
    "Bonus: Visualize the compressed version of the input data in the middle layer"
   ]
  },
  {
   "cell_type": "code",
   "execution_count": 102,
   "metadata": {
    "colab": {
     "base_uri": "https://localhost:8080/",
     "height": 62
    },
    "colab_type": "code",
    "id": "fy7tbpKqDFX8",
    "outputId": "03e0f497-08a6-448e-f177-53b139e52eda"
   },
   "outputs": [
    {
     "data": {
      "image/png": "[encoded data removed]",
      "text/plain": [
       "<Figure size 432x288 with 1 Axes>"
      ]
     },
     "metadata": {
      "needs_background": "light",
      "tags": []
     },
     "output_type": "display_data"
    }
   ],
   "source": [
    "# this is our input placeholder\n",
    "input_img = Input(shape=(784,))\n",
    "# \"encoded\" is the encoded representation of the input\n",
    "encoded = Dense(encoding_dim, activation='relu')(input_img)\n",
    "# \"decoded\" is the lossy reconstruction of the input\n",
    "decoded = Dense(784, activation='sigmoid')(encoded)\n",
    "encoder = Model(input_img, encoded)\n",
    "encoder.compile(optimizer='adadelta', loss='binary_crossentropy',metrics=['accuracy'])\n",
    "\n",
    "(x_train, y_train), (x_test, y_test) = fashion_mnist.load_data()\n",
    "x_train = x_train.astype('float32') / 255.\n",
    "x_test = x_test.astype('float32') / 255.\n",
    "x_train = x_train.reshape((len(x_train), np.prod(x_train.shape[1:])))\n",
    "x_test = x_test.reshape((len(x_test), np.prod(x_test.shape[1:])))\n",
    "\n",
    "encoded_imgs = encoder.predict(x_test[[2],:])\n",
    "\n",
    "plt.imshow(encoded_imgs)\n",
    "plt.show()"
   ]
  }
 ],
 "metadata": {
  "colab": {
   "name": "DL_Icp6.ipynb",
   "provenance": []
  },
  "kernelspec": {
   "display_name": "Python 3",
   "language": "python",
   "name": "python3"
  },
  "language_info": {
   "codemirror_mode": {
    "name": "ipython",
    "version": 3
   },
   "file_extension": ".py",
   "mimetype": "text/x-python",
   "name": "python",
   "nbconvert_exporter": "python",
   "pygments_lexer": "ipython3",
   "version": "3.7.6"
  }
 },
 "nbformat": 4,
 "nbformat_minor": 1
}
